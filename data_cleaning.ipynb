{
 "cells": [
  {
   "cell_type": "code",
   "execution_count": null,
   "id": "c10abb08",
   "metadata": {},
   "outputs": [
    {
     "name": "stdout",
     "output_type": "stream",
     "text": [
      "Requirement already satisfied: pandas in c:\\users\\samud\\anaconda3\\lib\\site-packages (2.2.3)\n",
      "Requirement already satisfied: pytz>=2020.1 in c:\\users\\samud\\anaconda3\\lib\\site-packages (from pandas) (2022.7)\n",
      "Requirement already satisfied: tzdata>=2022.7 in c:\\users\\samud\\anaconda3\\lib\\site-packages (from pandas) (2025.1)\n",
      "Requirement already satisfied: numpy>=1.22.4 in c:\\users\\samud\\anaconda3\\lib\\site-packages (from pandas) (2.2.6)\n",
      "Requirement already satisfied: python-dateutil>=2.8.2 in c:\\users\\samud\\anaconda3\\lib\\site-packages (from pandas) (2.8.2)\n",
      "Requirement already satisfied: six>=1.5 in c:\\users\\samud\\anaconda3\\lib\\site-packages (from python-dateutil>=2.8.2->pandas) (1.16.0)\n",
      "Note: you may need to restart the kernel to use updated packages.\n"
     ]
    }
   ],
   "source": [
    "pip install pandas"
   ]
  },
  {
   "cell_type": "code",
   "execution_count": 4,
   "id": "0744893f",
   "metadata": {},
   "outputs": [
    {
     "name": "stdout",
     "output_type": "stream",
     "text": [
      "Pandas version: 2.2.3\n"
     ]
    }
   ],
   "source": [
    "import pandas as pd\n",
    "print(\"Pandas version:\", pd.__version__)"
   ]
  },
  {
   "cell_type": "code",
   "execution_count": 7,
   "id": "bbd56854",
   "metadata": {},
   "outputs": [],
   "source": [
    "df = pd.read_csv('dataset/alzheimers_disease_data.csv')"
   ]
  },
  {
   "cell_type": "code",
   "execution_count": 8,
   "id": "694c35d5",
   "metadata": {},
   "outputs": [
    {
     "data": {
      "text/html": [
       "<div>\n",
       "<style scoped>\n",
       "    .dataframe tbody tr th:only-of-type {\n",
       "        vertical-align: middle;\n",
       "    }\n",
       "\n",
       "    .dataframe tbody tr th {\n",
       "        vertical-align: top;\n",
       "    }\n",
       "\n",
       "    .dataframe thead th {\n",
       "        text-align: right;\n",
       "    }\n",
       "</style>\n",
       "<table border=\"1\" class=\"dataframe\">\n",
       "  <thead>\n",
       "    <tr style=\"text-align: right;\">\n",
       "      <th></th>\n",
       "      <th>PatientID</th>\n",
       "      <th>Age</th>\n",
       "      <th>Gender</th>\n",
       "      <th>Ethnicity</th>\n",
       "      <th>EducationLevel</th>\n",
       "      <th>BMI</th>\n",
       "      <th>Smoking</th>\n",
       "      <th>AlcoholConsumption</th>\n",
       "      <th>PhysicalActivity</th>\n",
       "      <th>DietQuality</th>\n",
       "      <th>...</th>\n",
       "      <th>MemoryComplaints</th>\n",
       "      <th>BehavioralProblems</th>\n",
       "      <th>ADL</th>\n",
       "      <th>Confusion</th>\n",
       "      <th>Disorientation</th>\n",
       "      <th>PersonalityChanges</th>\n",
       "      <th>DifficultyCompletingTasks</th>\n",
       "      <th>Forgetfulness</th>\n",
       "      <th>Diagnosis</th>\n",
       "      <th>DoctorInCharge</th>\n",
       "    </tr>\n",
       "  </thead>\n",
       "  <tbody>\n",
       "    <tr>\n",
       "      <th>0</th>\n",
       "      <td>4751</td>\n",
       "      <td>73</td>\n",
       "      <td>0</td>\n",
       "      <td>0</td>\n",
       "      <td>2</td>\n",
       "      <td>22.927749</td>\n",
       "      <td>0</td>\n",
       "      <td>13.297218</td>\n",
       "      <td>6.327112</td>\n",
       "      <td>1.347214</td>\n",
       "      <td>...</td>\n",
       "      <td>0</td>\n",
       "      <td>0</td>\n",
       "      <td>1.725883</td>\n",
       "      <td>0</td>\n",
       "      <td>0</td>\n",
       "      <td>0</td>\n",
       "      <td>1</td>\n",
       "      <td>0</td>\n",
       "      <td>0</td>\n",
       "      <td>XXXConfid</td>\n",
       "    </tr>\n",
       "    <tr>\n",
       "      <th>1</th>\n",
       "      <td>4752</td>\n",
       "      <td>89</td>\n",
       "      <td>0</td>\n",
       "      <td>0</td>\n",
       "      <td>0</td>\n",
       "      <td>26.827681</td>\n",
       "      <td>0</td>\n",
       "      <td>4.542524</td>\n",
       "      <td>7.619885</td>\n",
       "      <td>0.518767</td>\n",
       "      <td>...</td>\n",
       "      <td>0</td>\n",
       "      <td>0</td>\n",
       "      <td>2.592424</td>\n",
       "      <td>0</td>\n",
       "      <td>0</td>\n",
       "      <td>0</td>\n",
       "      <td>0</td>\n",
       "      <td>1</td>\n",
       "      <td>0</td>\n",
       "      <td>XXXConfid</td>\n",
       "    </tr>\n",
       "    <tr>\n",
       "      <th>2</th>\n",
       "      <td>4753</td>\n",
       "      <td>73</td>\n",
       "      <td>0</td>\n",
       "      <td>3</td>\n",
       "      <td>1</td>\n",
       "      <td>17.795882</td>\n",
       "      <td>0</td>\n",
       "      <td>19.555085</td>\n",
       "      <td>7.844988</td>\n",
       "      <td>1.826335</td>\n",
       "      <td>...</td>\n",
       "      <td>0</td>\n",
       "      <td>0</td>\n",
       "      <td>7.119548</td>\n",
       "      <td>0</td>\n",
       "      <td>1</td>\n",
       "      <td>0</td>\n",
       "      <td>1</td>\n",
       "      <td>0</td>\n",
       "      <td>0</td>\n",
       "      <td>XXXConfid</td>\n",
       "    </tr>\n",
       "    <tr>\n",
       "      <th>3</th>\n",
       "      <td>4754</td>\n",
       "      <td>74</td>\n",
       "      <td>1</td>\n",
       "      <td>0</td>\n",
       "      <td>1</td>\n",
       "      <td>33.800817</td>\n",
       "      <td>1</td>\n",
       "      <td>12.209266</td>\n",
       "      <td>8.428001</td>\n",
       "      <td>7.435604</td>\n",
       "      <td>...</td>\n",
       "      <td>0</td>\n",
       "      <td>1</td>\n",
       "      <td>6.481226</td>\n",
       "      <td>0</td>\n",
       "      <td>0</td>\n",
       "      <td>0</td>\n",
       "      <td>0</td>\n",
       "      <td>0</td>\n",
       "      <td>0</td>\n",
       "      <td>XXXConfid</td>\n",
       "    </tr>\n",
       "    <tr>\n",
       "      <th>4</th>\n",
       "      <td>4755</td>\n",
       "      <td>89</td>\n",
       "      <td>0</td>\n",
       "      <td>0</td>\n",
       "      <td>0</td>\n",
       "      <td>20.716974</td>\n",
       "      <td>0</td>\n",
       "      <td>18.454356</td>\n",
       "      <td>6.310461</td>\n",
       "      <td>0.795498</td>\n",
       "      <td>...</td>\n",
       "      <td>0</td>\n",
       "      <td>0</td>\n",
       "      <td>0.014691</td>\n",
       "      <td>0</td>\n",
       "      <td>0</td>\n",
       "      <td>1</td>\n",
       "      <td>1</td>\n",
       "      <td>0</td>\n",
       "      <td>0</td>\n",
       "      <td>XXXConfid</td>\n",
       "    </tr>\n",
       "  </tbody>\n",
       "</table>\n",
       "<p>5 rows × 35 columns</p>\n",
       "</div>"
      ],
      "text/plain": [
       "   PatientID  Age  Gender  Ethnicity  EducationLevel        BMI  Smoking  \\\n",
       "0       4751   73       0          0               2  22.927749        0   \n",
       "1       4752   89       0          0               0  26.827681        0   \n",
       "2       4753   73       0          3               1  17.795882        0   \n",
       "3       4754   74       1          0               1  33.800817        1   \n",
       "4       4755   89       0          0               0  20.716974        0   \n",
       "\n",
       "   AlcoholConsumption  PhysicalActivity  DietQuality  ...  MemoryComplaints  \\\n",
       "0           13.297218          6.327112     1.347214  ...                 0   \n",
       "1            4.542524          7.619885     0.518767  ...                 0   \n",
       "2           19.555085          7.844988     1.826335  ...                 0   \n",
       "3           12.209266          8.428001     7.435604  ...                 0   \n",
       "4           18.454356          6.310461     0.795498  ...                 0   \n",
       "\n",
       "   BehavioralProblems       ADL  Confusion  Disorientation  \\\n",
       "0                   0  1.725883          0               0   \n",
       "1                   0  2.592424          0               0   \n",
       "2                   0  7.119548          0               1   \n",
       "3                   1  6.481226          0               0   \n",
       "4                   0  0.014691          0               0   \n",
       "\n",
       "   PersonalityChanges  DifficultyCompletingTasks  Forgetfulness  Diagnosis  \\\n",
       "0                   0                          1              0          0   \n",
       "1                   0                          0              1          0   \n",
       "2                   0                          1              0          0   \n",
       "3                   0                          0              0          0   \n",
       "4                   1                          1              0          0   \n",
       "\n",
       "   DoctorInCharge  \n",
       "0       XXXConfid  \n",
       "1       XXXConfid  \n",
       "2       XXXConfid  \n",
       "3       XXXConfid  \n",
       "4       XXXConfid  \n",
       "\n",
       "[5 rows x 35 columns]"
      ]
     },
     "execution_count": 8,
     "metadata": {},
     "output_type": "execute_result"
    }
   ],
   "source": [
    "df.head()"
   ]
  },
  {
   "cell_type": "code",
   "execution_count": 12,
   "id": "eb8ad940",
   "metadata": {},
   "outputs": [
    {
     "data": {
      "text/plain": [
       "Index(['PatientID', 'Age', 'Gender', 'Ethnicity', 'EducationLevel', 'BMI',\n",
       "       'Smoking', 'AlcoholConsumption', 'PhysicalActivity', 'DietQuality',\n",
       "       'SleepQuality', 'FamilyHistoryAlzheimers', 'CardiovascularDisease',\n",
       "       'Diabetes', 'Depression', 'HeadInjury', 'Hypertension', 'SystolicBP',\n",
       "       'DiastolicBP', 'CholesterolTotal', 'CholesterolLDL', 'CholesterolHDL',\n",
       "       'CholesterolTriglycerides', 'MMSE', 'FunctionalAssessment',\n",
       "       'MemoryComplaints', 'BehavioralProblems', 'ADL', 'Confusion',\n",
       "       'Disorientation', 'PersonalityChanges', 'DifficultyCompletingTasks',\n",
       "       'Forgetfulness', 'Diagnosis', 'DoctorInCharge'],\n",
       "      dtype='object')"
      ]
     },
     "execution_count": 12,
     "metadata": {},
     "output_type": "execute_result"
    }
   ],
   "source": [
    "# viewing all the columns in the dataset one by one \n",
    "df.columns"
   ]
  },
  {
   "cell_type": "code",
   "execution_count": null,
   "id": "7d83250a",
   "metadata": {},
   "outputs": [
    {
     "data": {
      "text/plain": [
       "Series([], dtype: int64)"
      ]
     },
     "execution_count": 17,
     "metadata": {},
     "output_type": "execute_result"
    }
   ],
   "source": [
    "# display the missing values that are present in the dataset\n",
    "missing_values = df.isnull().sum()\n",
    "missing_values[missing_values > 0]\n",
    "# no missing values are present in the dataset"
   ]
  },
  {
   "cell_type": "code",
   "execution_count": 20,
   "id": "eb884d55",
   "metadata": {},
   "outputs": [
    {
     "name": "stdout",
     "output_type": "stream",
     "text": [
      "Number of duplicate rows: 0\n"
     ]
    }
   ],
   "source": [
    "# find duplicate rows in the dataset\n",
    "duplicate_rows = df.duplicated().sum()\n",
    "print(f\"Number of duplicate rows: {duplicate_rows}\")\n",
    "# no duplicate rows are present in the dataset"
   ]
  },
  {
   "cell_type": "code",
   "execution_count": 22,
   "id": "b454cd3b",
   "metadata": {},
   "outputs": [
    {
     "name": "stdout",
     "output_type": "stream",
     "text": [
      "Data types of each column:\n",
      "PatientID                      int64\n",
      "Age                            int64\n",
      "Gender                         int64\n",
      "Ethnicity                      int64\n",
      "EducationLevel                 int64\n",
      "BMI                          float64\n",
      "Smoking                        int64\n",
      "AlcoholConsumption           float64\n",
      "PhysicalActivity             float64\n",
      "DietQuality                  float64\n",
      "SleepQuality                 float64\n",
      "FamilyHistoryAlzheimers        int64\n",
      "CardiovascularDisease          int64\n",
      "Diabetes                       int64\n",
      "Depression                     int64\n",
      "HeadInjury                     int64\n",
      "Hypertension                   int64\n",
      "SystolicBP                     int64\n",
      "DiastolicBP                    int64\n",
      "CholesterolTotal             float64\n",
      "CholesterolLDL               float64\n",
      "CholesterolHDL               float64\n",
      "CholesterolTriglycerides     float64\n",
      "MMSE                         float64\n",
      "FunctionalAssessment         float64\n",
      "MemoryComplaints               int64\n",
      "BehavioralProblems             int64\n",
      "ADL                          float64\n",
      "Confusion                      int64\n",
      "Disorientation                 int64\n",
      "PersonalityChanges             int64\n",
      "DifficultyCompletingTasks      int64\n",
      "Forgetfulness                  int64\n",
      "Diagnosis                      int64\n",
      "DoctorInCharge                object\n",
      "dtype: object\n"
     ]
    }
   ],
   "source": [
    "# display the data types of each column\n",
    "data_types = df.dtypes\n",
    "print(\"Data types of each column:\")\n",
    "print(data_types)"
   ]
  },
  {
   "cell_type": "code",
   "execution_count": 27,
   "id": "9b61655c",
   "metadata": {},
   "outputs": [],
   "source": [
    "# drop the id and doctor in charge columns as they are not needed for analysis\n",
    "df.drop(columns=['PatientID', 'DoctorInCharge'], inplace=True)"
   ]
  },
  {
   "cell_type": "code",
   "execution_count": 28,
   "id": "b2c9614b",
   "metadata": {},
   "outputs": [
    {
     "data": {
      "text/plain": [
       "dtype('int64')"
      ]
     },
     "execution_count": 28,
     "metadata": {},
     "output_type": "execute_result"
    }
   ],
   "source": [
    "# view the data types of gender\n",
    "df['Gender'].dtypes"
   ]
  },
  {
   "cell_type": "code",
   "execution_count": 30,
   "id": "bedc9e05",
   "metadata": {},
   "outputs": [
    {
     "name": "stdout",
     "output_type": "stream",
     "text": [
      "Unique values in SleepQuality column: [9.02567867 7.15129274 9.67357416 ... 5.76946355 8.32287396 9.87871052]\n",
      "Unique values in DietQuality column: [1.34721431 0.51876714 1.82633466 ... 8.12002455 1.26342749 7.94140388]\n"
     ]
    }
   ],
   "source": [
    "#view the sleep quality column and diet quality column unique values  \n",
    "print(\"Unique values in SleepQuality column:\", df['SleepQuality'].unique())\n",
    "print(\"Unique values in DietQuality column:\", df['DietQuality'].unique())"
   ]
  },
  {
   "cell_type": "code",
   "execution_count": 31,
   "id": "957e8a0f",
   "metadata": {},
   "outputs": [
    {
     "data": {
      "text/plain": [
       "FamilyHistoryAlzheimers    object\n",
       "CardiovascularDisease      object\n",
       "Diabetes                   object\n",
       "Depression                 object\n",
       "HeadInjury                 object\n",
       "Hypertension               object\n",
       "dtype: object"
      ]
     },
     "execution_count": 31,
     "metadata": {},
     "output_type": "execute_result"
    }
   ],
   "source": [
    "# Convert specified columns to object type\n",
    "cols_to_object = [\n",
    "    'FamilyHistoryAlzheimers',\n",
    "    'CardiovascularDisease',\n",
    "    'Diabetes',\n",
    "    'Depression',\n",
    "    'HeadInjury',\n",
    "    'Hypertension'\n",
    "]\n",
    "df[cols_to_object] = df[cols_to_object].astype('object')\n",
    "df[cols_to_object].dtypes"
   ]
  },
  {
   "cell_type": "code",
   "execution_count": 32,
   "id": "7096c737",
   "metadata": {},
   "outputs": [
    {
     "name": "stdout",
     "output_type": "stream",
     "text": [
      "Data types of all columns:\n",
      "Age                            int64\n",
      "Gender                         int64\n",
      "Ethnicity                      int64\n",
      "EducationLevel                 int64\n",
      "BMI                          float64\n",
      "Smoking                        int64\n",
      "AlcoholConsumption           float64\n",
      "PhysicalActivity             float64\n",
      "DietQuality                  float64\n",
      "SleepQuality                 float64\n",
      "FamilyHistoryAlzheimers       object\n",
      "CardiovascularDisease         object\n",
      "Diabetes                      object\n",
      "Depression                    object\n",
      "HeadInjury                    object\n",
      "Hypertension                  object\n",
      "SystolicBP                     int64\n",
      "DiastolicBP                    int64\n",
      "CholesterolTotal             float64\n",
      "CholesterolLDL               float64\n",
      "CholesterolHDL               float64\n",
      "CholesterolTriglycerides     float64\n",
      "MMSE                         float64\n",
      "FunctionalAssessment         float64\n",
      "MemoryComplaints               int64\n",
      "BehavioralProblems             int64\n",
      "ADL                          float64\n",
      "Confusion                      int64\n",
      "Disorientation                 int64\n",
      "PersonalityChanges             int64\n",
      "DifficultyCompletingTasks      int64\n",
      "Forgetfulness                  int64\n",
      "Diagnosis                      int64\n"
     ]
    }
   ],
   "source": [
    "# view all the dataypes in a single line\n",
    "print(\"Data types of all columns:\")\n",
    "print(df.dtypes.to_string())"
   ]
  },
  {
   "cell_type": "code",
   "execution_count": 33,
   "id": "704f0bea",
   "metadata": {},
   "outputs": [
    {
     "data": {
      "text/plain": [
       "FamilyHistoryAlzheimers      object\n",
       "CardiovascularDisease        object\n",
       "Diabetes                     object\n",
       "Depression                   object\n",
       "HeadInjury                   object\n",
       "Hypertension                 object\n",
       "Confusion                    object\n",
       "Disorientation               object\n",
       "PersonalityChanges           object\n",
       "DifficultyCompletingTasks    object\n",
       "Forgetfulness                object\n",
       "Diagnosis                    object\n",
       "dtype: object"
      ]
     },
     "execution_count": 33,
     "metadata": {},
     "output_type": "execute_result"
    }
   ],
   "source": [
    "# Convert specified columns to object type\n",
    "cols_to_object = [\n",
    "    'FamilyHistoryAlzheimers',\n",
    "    'CardiovascularDisease',\n",
    "    'Diabetes',\n",
    "    'Depression',\n",
    "    'HeadInjury',\n",
    "    'Hypertension',\n",
    "    'Confusion',\n",
    "    'Disorientation',\n",
    "    'PersonalityChanges',\n",
    "    'DifficultyCompletingTasks',\n",
    "    'Forgetfulness',\n",
    "    'Diagnosis'\n",
    "]\n",
    "df[cols_to_object] = df[cols_to_object].astype('object')\n",
    "df[cols_to_object].dtypes"
   ]
  },
  {
   "cell_type": "code",
   "execution_count": 34,
   "id": "00bbc5f3",
   "metadata": {},
   "outputs": [
    {
     "data": {
      "text/plain": [
       "Age                            int64\n",
       "Gender                         int64\n",
       "Ethnicity                      int64\n",
       "EducationLevel                 int64\n",
       "BMI                          float64\n",
       "Smoking                        int64\n",
       "AlcoholConsumption           float64\n",
       "PhysicalActivity             float64\n",
       "DietQuality                  float64\n",
       "SleepQuality                 float64\n",
       "FamilyHistoryAlzheimers       object\n",
       "CardiovascularDisease         object\n",
       "Diabetes                      object\n",
       "Depression                    object\n",
       "HeadInjury                    object\n",
       "Hypertension                  object\n",
       "SystolicBP                     int64\n",
       "DiastolicBP                    int64\n",
       "CholesterolTotal             float64\n",
       "CholesterolLDL               float64\n",
       "CholesterolHDL               float64\n",
       "CholesterolTriglycerides     float64\n",
       "MMSE                         float64\n",
       "FunctionalAssessment         float64\n",
       "MemoryComplaints               int64\n",
       "BehavioralProblems             int64\n",
       "ADL                          float64\n",
       "Confusion                     object\n",
       "Disorientation                object\n",
       "PersonalityChanges            object\n",
       "DifficultyCompletingTasks     object\n",
       "Forgetfulness                 object\n",
       "Diagnosis                     object\n",
       "dtype: object"
      ]
     },
     "execution_count": 34,
     "metadata": {},
     "output_type": "execute_result"
    }
   ],
   "source": [
    "df.dtypes"
   ]
  },
  {
   "cell_type": "code",
   "execution_count": 37,
   "id": "14e81b90",
   "metadata": {},
   "outputs": [
    {
     "data": {
      "text/plain": [
       "Age                            int64\n",
       "Gender                        object\n",
       "Ethnicity                     object\n",
       "EducationLevel                object\n",
       "BMI                          float64\n",
       "Smoking                       object\n",
       "AlcoholConsumption           float64\n",
       "PhysicalActivity             float64\n",
       "DietQuality                  float64\n",
       "SleepQuality                 float64\n",
       "FamilyHistoryAlzheimers       object\n",
       "CardiovascularDisease         object\n",
       "Diabetes                      object\n",
       "Depression                    object\n",
       "HeadInjury                    object\n",
       "Hypertension                  object\n",
       "SystolicBP                     int64\n",
       "DiastolicBP                    int64\n",
       "CholesterolTotal             float64\n",
       "CholesterolLDL               float64\n",
       "CholesterolHDL               float64\n",
       "CholesterolTriglycerides     float64\n",
       "MMSE                         float64\n",
       "FunctionalAssessment         float64\n",
       "MemoryComplaints              object\n",
       "BehavioralProblems            object\n",
       "ADL                          float64\n",
       "Confusion                     object\n",
       "Disorientation                object\n",
       "PersonalityChanges            object\n",
       "DifficultyCompletingTasks     object\n",
       "Forgetfulness                 object\n",
       "Diagnosis                     object\n",
       "dtype: object"
      ]
     },
     "execution_count": 37,
     "metadata": {},
     "output_type": "execute_result"
    }
   ],
   "source": [
    "# Convert additional columns to object type\n",
    "cols_to_object = [\n",
    "    'Gender',\n",
    "    'Smoking',\n",
    "    'Ethnicity',\n",
    "    'EducationLevel',\n",
    "    'MemoryComplaints',\n",
    "    'BehavioralProblems'\n",
    "]\n",
    "df[cols_to_object] = df[cols_to_object].astype('object')\n",
    "df.dtypes"
   ]
  },
  {
   "cell_type": "code",
   "execution_count": 39,
   "id": "b7450a9e",
   "metadata": {},
   "outputs": [
    {
     "data": {
      "text/plain": [
       "Index(['age', 'gender', 'ethnicity', 'educationlevel', 'bmi', 'smoking',\n",
       "       'alcoholconsumption', 'physicalactivity', 'dietquality', 'sleepquality',\n",
       "       'familyhistoryalzheimers', 'cardiovasculardisease', 'diabetes',\n",
       "       'depression', 'headinjury', 'hypertension', 'systolicbp', 'diastolicbp',\n",
       "       'cholesteroltotal', 'cholesterolldl', 'cholesterolhdl',\n",
       "       'cholesteroltriglycerides', 'mmse', 'functionalassessment',\n",
       "       'memorycomplaints', 'behavioralproblems', 'adl', 'confusion',\n",
       "       'disorientation', 'personalitychanges', 'difficultycompletingtasks',\n",
       "       'forgetfulness', 'diagnosis'],\n",
       "      dtype='object')"
      ]
     },
     "execution_count": 39,
     "metadata": {},
     "output_type": "execute_result"
    }
   ],
   "source": [
    "# all the variable names i want to make them lower case\n",
    "df.columns = df.columns.str.lower()\n",
    "df.columns"
   ]
  },
  {
   "cell_type": "code",
   "execution_count": 40,
   "id": "a0eec7b9",
   "metadata": {},
   "outputs": [
    {
     "data": {
      "text/html": [
       "<div>\n",
       "<style scoped>\n",
       "    .dataframe tbody tr th:only-of-type {\n",
       "        vertical-align: middle;\n",
       "    }\n",
       "\n",
       "    .dataframe tbody tr th {\n",
       "        vertical-align: top;\n",
       "    }\n",
       "\n",
       "    .dataframe thead th {\n",
       "        text-align: right;\n",
       "    }\n",
       "</style>\n",
       "<table border=\"1\" class=\"dataframe\">\n",
       "  <thead>\n",
       "    <tr style=\"text-align: right;\">\n",
       "      <th></th>\n",
       "      <th>age</th>\n",
       "      <th>gender</th>\n",
       "      <th>ethnicity</th>\n",
       "      <th>educationlevel</th>\n",
       "      <th>bmi</th>\n",
       "      <th>smoking</th>\n",
       "      <th>alcoholconsumption</th>\n",
       "      <th>physicalactivity</th>\n",
       "      <th>dietquality</th>\n",
       "      <th>sleepquality</th>\n",
       "      <th>...</th>\n",
       "      <th>functionalassessment</th>\n",
       "      <th>memorycomplaints</th>\n",
       "      <th>behavioralproblems</th>\n",
       "      <th>adl</th>\n",
       "      <th>confusion</th>\n",
       "      <th>disorientation</th>\n",
       "      <th>personalitychanges</th>\n",
       "      <th>difficultycompletingtasks</th>\n",
       "      <th>forgetfulness</th>\n",
       "      <th>diagnosis</th>\n",
       "    </tr>\n",
       "  </thead>\n",
       "  <tbody>\n",
       "    <tr>\n",
       "      <th>0</th>\n",
       "      <td>73</td>\n",
       "      <td>0</td>\n",
       "      <td>0</td>\n",
       "      <td>2</td>\n",
       "      <td>22.927749</td>\n",
       "      <td>0</td>\n",
       "      <td>13.297218</td>\n",
       "      <td>6.327112</td>\n",
       "      <td>1.347214</td>\n",
       "      <td>9.025679</td>\n",
       "      <td>...</td>\n",
       "      <td>6.518877</td>\n",
       "      <td>0</td>\n",
       "      <td>0</td>\n",
       "      <td>1.725883</td>\n",
       "      <td>0</td>\n",
       "      <td>0</td>\n",
       "      <td>0</td>\n",
       "      <td>1</td>\n",
       "      <td>0</td>\n",
       "      <td>0</td>\n",
       "    </tr>\n",
       "    <tr>\n",
       "      <th>1</th>\n",
       "      <td>89</td>\n",
       "      <td>0</td>\n",
       "      <td>0</td>\n",
       "      <td>0</td>\n",
       "      <td>26.827681</td>\n",
       "      <td>0</td>\n",
       "      <td>4.542524</td>\n",
       "      <td>7.619885</td>\n",
       "      <td>0.518767</td>\n",
       "      <td>7.151293</td>\n",
       "      <td>...</td>\n",
       "      <td>7.118696</td>\n",
       "      <td>0</td>\n",
       "      <td>0</td>\n",
       "      <td>2.592424</td>\n",
       "      <td>0</td>\n",
       "      <td>0</td>\n",
       "      <td>0</td>\n",
       "      <td>0</td>\n",
       "      <td>1</td>\n",
       "      <td>0</td>\n",
       "    </tr>\n",
       "    <tr>\n",
       "      <th>2</th>\n",
       "      <td>73</td>\n",
       "      <td>0</td>\n",
       "      <td>3</td>\n",
       "      <td>1</td>\n",
       "      <td>17.795882</td>\n",
       "      <td>0</td>\n",
       "      <td>19.555085</td>\n",
       "      <td>7.844988</td>\n",
       "      <td>1.826335</td>\n",
       "      <td>9.673574</td>\n",
       "      <td>...</td>\n",
       "      <td>5.895077</td>\n",
       "      <td>0</td>\n",
       "      <td>0</td>\n",
       "      <td>7.119548</td>\n",
       "      <td>0</td>\n",
       "      <td>1</td>\n",
       "      <td>0</td>\n",
       "      <td>1</td>\n",
       "      <td>0</td>\n",
       "      <td>0</td>\n",
       "    </tr>\n",
       "    <tr>\n",
       "      <th>3</th>\n",
       "      <td>74</td>\n",
       "      <td>1</td>\n",
       "      <td>0</td>\n",
       "      <td>1</td>\n",
       "      <td>33.800817</td>\n",
       "      <td>1</td>\n",
       "      <td>12.209266</td>\n",
       "      <td>8.428001</td>\n",
       "      <td>7.435604</td>\n",
       "      <td>8.392554</td>\n",
       "      <td>...</td>\n",
       "      <td>8.965106</td>\n",
       "      <td>0</td>\n",
       "      <td>1</td>\n",
       "      <td>6.481226</td>\n",
       "      <td>0</td>\n",
       "      <td>0</td>\n",
       "      <td>0</td>\n",
       "      <td>0</td>\n",
       "      <td>0</td>\n",
       "      <td>0</td>\n",
       "    </tr>\n",
       "    <tr>\n",
       "      <th>4</th>\n",
       "      <td>89</td>\n",
       "      <td>0</td>\n",
       "      <td>0</td>\n",
       "      <td>0</td>\n",
       "      <td>20.716974</td>\n",
       "      <td>0</td>\n",
       "      <td>18.454356</td>\n",
       "      <td>6.310461</td>\n",
       "      <td>0.795498</td>\n",
       "      <td>5.597238</td>\n",
       "      <td>...</td>\n",
       "      <td>6.045039</td>\n",
       "      <td>0</td>\n",
       "      <td>0</td>\n",
       "      <td>0.014691</td>\n",
       "      <td>0</td>\n",
       "      <td>0</td>\n",
       "      <td>1</td>\n",
       "      <td>1</td>\n",
       "      <td>0</td>\n",
       "      <td>0</td>\n",
       "    </tr>\n",
       "  </tbody>\n",
       "</table>\n",
       "<p>5 rows × 33 columns</p>\n",
       "</div>"
      ],
      "text/plain": [
       "   age gender ethnicity educationlevel        bmi smoking  alcoholconsumption  \\\n",
       "0   73      0         0              2  22.927749       0           13.297218   \n",
       "1   89      0         0              0  26.827681       0            4.542524   \n",
       "2   73      0         3              1  17.795882       0           19.555085   \n",
       "3   74      1         0              1  33.800817       1           12.209266   \n",
       "4   89      0         0              0  20.716974       0           18.454356   \n",
       "\n",
       "   physicalactivity  dietquality  sleepquality  ... functionalassessment  \\\n",
       "0          6.327112     1.347214      9.025679  ...             6.518877   \n",
       "1          7.619885     0.518767      7.151293  ...             7.118696   \n",
       "2          7.844988     1.826335      9.673574  ...             5.895077   \n",
       "3          8.428001     7.435604      8.392554  ...             8.965106   \n",
       "4          6.310461     0.795498      5.597238  ...             6.045039   \n",
       "\n",
       "  memorycomplaints behavioralproblems       adl confusion disorientation  \\\n",
       "0                0                  0  1.725883         0              0   \n",
       "1                0                  0  2.592424         0              0   \n",
       "2                0                  0  7.119548         0              1   \n",
       "3                0                  1  6.481226         0              0   \n",
       "4                0                  0  0.014691         0              0   \n",
       "\n",
       "   personalitychanges  difficultycompletingtasks  forgetfulness  diagnosis  \n",
       "0                   0                          1              0          0  \n",
       "1                   0                          0              1          0  \n",
       "2                   0                          1              0          0  \n",
       "3                   0                          0              0          0  \n",
       "4                   1                          1              0          0  \n",
       "\n",
       "[5 rows x 33 columns]"
      ]
     },
     "execution_count": 40,
     "metadata": {},
     "output_type": "execute_result"
    }
   ],
   "source": [
    "df.head()"
   ]
  },
  {
   "cell_type": "code",
   "execution_count": 43,
   "id": "abae4281",
   "metadata": {},
   "outputs": [
    {
     "name": "stdout",
     "output_type": "stream",
     "text": [
      "age: 0 outliers\n",
      "bmi: 0 outliers\n",
      "alcoholconsumption: 0 outliers\n",
      "physicalactivity: 0 outliers\n",
      "dietquality: 0 outliers\n",
      "sleepquality: 0 outliers\n",
      "systolicbp: 0 outliers\n",
      "diastolicbp: 0 outliers\n",
      "cholesteroltotal: 0 outliers\n",
      "cholesterolldl: 0 outliers\n",
      "cholesterolhdl: 0 outliers\n",
      "cholesteroltriglycerides: 0 outliers\n",
      "mmse: 0 outliers\n",
      "functionalassessment: 0 outliers\n",
      "adl: 0 outliers\n"
     ]
    }
   ],
   "source": [
    "# Find outliers for all numerical columns using the IQR method\n",
    "numerical_cols = df.select_dtypes(include=['float64', 'int64']).columns\n",
    "\n",
    "outliers = {}\n",
    "for col in numerical_cols:\n",
    "    Q1 = df[col].quantile(0.25)\n",
    "    Q3 = df[col].quantile(0.75)\n",
    "    IQR = Q3 - Q1\n",
    "    lower_bound = Q1 - 1.5 * IQR\n",
    "    upper_bound = Q3 + 1.5 * IQR\n",
    "    outlier_indices = df[(df[col] < lower_bound) | (df[col] > upper_bound)].index.tolist()\n",
    "    outliers[col] = outlier_indices\n",
    "\n",
    "# Display the number of outliers for each numerical column\n",
    "for col, idxs in outliers.items():\n",
    "    print(f\"{col}: {len(idxs)} outliers\")\n",
    "    \n"
   ]
  },
  {
   "cell_type": "code",
   "execution_count": null,
   "id": "50113daf",
   "metadata": {},
   "outputs": [],
   "source": []
  },
  {
   "cell_type": "code",
   "execution_count": null,
   "id": "6f9444cd",
   "metadata": {},
   "outputs": [],
   "source": []
  },
  {
   "cell_type": "code",
   "execution_count": 41,
   "id": "c3c69e6d",
   "metadata": {},
   "outputs": [],
   "source": [
    "# save this as cleaned_data.csv\n",
    "df.to_csv('dataset/cleaned_data.csv', index=False)"
   ]
  }
 ],
 "metadata": {
  "kernelspec": {
   "display_name": "base",
   "language": "python",
   "name": "python3"
  },
  "language_info": {
   "codemirror_mode": {
    "name": "ipython",
    "version": 3
   },
   "file_extension": ".py",
   "mimetype": "text/x-python",
   "name": "python",
   "nbconvert_exporter": "python",
   "pygments_lexer": "ipython3",
   "version": "3.10.9"
  }
 },
 "nbformat": 4,
 "nbformat_minor": 5
}
